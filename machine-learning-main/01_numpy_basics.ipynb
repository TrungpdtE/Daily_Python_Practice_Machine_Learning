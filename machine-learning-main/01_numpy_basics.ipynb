{
 "cells": [
  {
   "cell_type": "markdown",
   "metadata": {
    "id": "x8IXJI1wB6HL"
   },
   "source": [
    "[![Open In Colab](https://colab.research.google.com/assets/colab-badge.svg)](https://colab.research.google.com/drive/1Q3uUS0RZH-deTWIAQeOVbJ4AdNH90zQN?usp=sharing)"
   ]
  },
  {
   "cell_type": "markdown",
   "metadata": {
    "id": "Hui3yJAuCF1Q"
   },
   "source": [
    "### NumPy Arrays\n",
    "- NumPy array are by default Homogeneous, which means data inside an array must be of the same Datatype. \n",
    "- NumPy offers comprehensive mathematical functions, random number generators, linear algebra routines, Fourier transforms, and more.\n"
   ]
  },
  {
   "cell_type": "markdown",
   "metadata": {},
   "source": [
    "Giới thiệu về NumPy\n",
    "NumPy (Numerical Python) là một thư viện quan trọng trong Python, được sử dụng rộng rãi trong lĩnh vực khoa học dữ liệu và tính toán khoa học. NumPy cung cấp các công cụ mạnh mẽ để làm việc với mảng (arrays) và ma trận (matrices) đa chiều, cùng với các hàm toán học hiệu quả để thao tác trên các mảng này.\n",
    "\n",
    "Các tính năng chính của NumPy\n",
    "Mảng đa chiều (ndarray): NumPy cung cấp một đối tượng mảng n-dimensional array (ndarray) để lưu trữ và thao tác với dữ liệu.\n",
    "Hiệu suất cao: Các phép toán trên mảng NumPy được thực hiện nhanh chóng và hiệu quả nhờ vào việc sử dụng các thư viện C và Fortran.\n",
    "Hàm toán học: NumPy cung cấp nhiều hàm toán học để thực hiện các phép toán như cộng, trừ, nhân, chia, và các phép toán phức tạp hơn như đại số tuyến tính, thống kê, và xử lý tín hiệu.\n",
    "Khả năng tích hợp: NumPy dễ dàng tích hợp với các thư viện khác như SciPy, Matplotlib, Pandas, và nhiều thư viện khác trong hệ sinh thái Python.\n"
   ]
  },
  {
   "cell_type": "code",
   "execution_count": 235,
   "metadata": {
    "id": "pmqVa2kUBnAB"
   },
   "outputs": [
    {
     "name": "stdout",
     "output_type": "stream",
     "text": [
      "1.26.4\n"
     ]
    }
   ],
   "source": [
    "import numpy as np\n",
    "print(np.__version__)"
   ]
  },
  {
   "cell_type": "code",
   "execution_count": 236,
   "metadata": {},
   "outputs": [
    {
     "name": "stdout",
     "output_type": "stream",
     "text": [
      "[1 2 3 4 5]\n",
      "[[1 2 3]\n",
      " [4 5 6]]\n",
      "[[3 2]\n",
      " [3 4]\n",
      " [1 2]]\n",
      "Mảng toàn số 0:\n",
      " [[0. 0. 0.]\n",
      " [0. 0. 0.]]\n",
      "Mảng toàn số 1:\n",
      " [[1. 1. 1.]\n",
      " [1. 1. 1.]]\n",
      "Mảng ngẫu nhiên:\n",
      " [[0.08120784 0.55365312 0.72319054]\n",
      " [0.60974871 0.60691609 0.53567572]]\n"
     ]
    }
   ],
   "source": [
    "#tạo mảng numpy \n",
    "\n",
    "# Tạo mảng 1 chiều\n",
    "arr1=np.array([1,2,3,4,5])\n",
    "\n",
    "#tao mang 2 chieu\n",
    "arr2=np.array([[1,2,3],[4,5,6]])\n",
    "\n",
    "#tao mang 3 chieu\n",
    "arr3=np.array([[3,2],[3,4],[1,2]])\n",
    "print(arr1)\n",
    "print(arr2)\n",
    "print(arr3)\n",
    "# Tạo mảng toàn số 0\n",
    "zeros_arr = np.zeros((2, 3))\n",
    "print(\"Mảng toàn số 0:\\n\", zeros_arr)\n",
    "\n",
    "# Tạo mảng toàn số 1\n",
    "ones_arr = np.ones((2, 3))\n",
    "print(\"Mảng toàn số 1:\\n\", ones_arr)\n",
    "\n",
    "# Tạo mảng với các giá trị ngẫu nhiên\n",
    "random_arr = np.random.random((2, 3))\n",
    "print(\"Mảng ngẫu nhiên:\\n\", random_arr)\n",
    "\n"
   ]
  },
  {
   "cell_type": "code",
   "execution_count": 237,
   "metadata": {},
   "outputs": [
    {
     "name": "stdout",
     "output_type": "stream",
     "text": [
      "Cộng hai mảng: [ 2  4  6  8 10]\n",
      "Nhân hai mảng: [ 1  4  9 16 25]\n",
      "Tổng các phần tử trong mảng: 15\n",
      "Trung bình các phần tử trong mảng: 3.0\n"
     ]
    }
   ],
   "source": [
    "#Các phép toán trên mảng NumPy:\n",
    "# Cộng hai mảng\n",
    "arr_sum = arr1 + arr1\n",
    "print(\"Cộng hai mảng:\", arr_sum)\n",
    "\n",
    "# Nhân hai mảng\n",
    "arr_product = arr1 * arr1\n",
    "print(\"Nhân hai mảng:\", arr_product)\n",
    "\n",
    "# Tính tổng các phần tử trong mảng\n",
    "arr_total = np.sum(arr1)\n",
    "print(\"Tổng các phần tử trong mảng:\", arr_total)\n",
    "\n",
    "# Tính trung bình các phần tử trong mảng\n",
    "arr_mean = np.mean(arr1)\n",
    "print(\"Trung bình các phần tử trong mảng:\", arr_mean)"
   ]
  },
  {
   "cell_type": "code",
   "execution_count": 238,
   "metadata": {},
   "outputs": [
    {
     "name": "stdout",
     "output_type": "stream",
     "text": [
      "Phần tử thứ 2: 2\n",
      "Phần tử ở hàng 1, cột 2: 2\n",
      "Cắt mảng 1 chiều: [2 3 4]\n",
      "Cắt mảng 2 chiều:\n",
      " [[2 3]\n",
      " [5 6]]\n"
     ]
    }
   ],
   "source": [
    "# Truy cập phần tử thứ 2 trong mảng 1 chiều\n",
    "print(\"Phần tử thứ 2:\", arr1[1])\n",
    "\n",
    "# Truy cập phần tử ở hàng 1, cột 2 trong mảng 2 chiều\n",
    "print(\"Phần tử ở hàng 1, cột 2:\", arr2[0, 1])\n",
    "\n",
    "# Cắt mảng 1 chiều từ phần tử thứ 2 đến thứ 4\n",
    "print(\"Cắt mảng 1 chiều:\", arr1[1:4])\n",
    "\n",
    "# Cắt mảng 2 chiều: tất cả các hàng, cột 1 và 2\n",
    "print(\"Cắt mảng 2 chiều:\\n\", arr2[:, 1:3])"
   ]
  },
  {
   "cell_type": "code",
   "execution_count": 239,
   "metadata": {
    "id": "r7NRC32rB4ay"
   },
   "outputs": [
    {
     "data": {
      "text/plain": [
       "array([0., 0., 0.])"
      ]
     },
     "execution_count": 239,
     "metadata": {},
     "output_type": "execute_result"
    }
   ],
   "source": [
    "np.zeros(3)"
   ]
  },
  {
   "cell_type": "code",
   "execution_count": 240,
   "metadata": {
    "id": "2mrSWgfnF8Zc"
   },
   "outputs": [
    {
     "data": {
      "text/plain": [
       "numpy.ndarray"
      ]
     },
     "execution_count": 240,
     "metadata": {},
     "output_type": "execute_result"
    }
   ],
   "source": [
    "type(np.zeros(3))"
   ]
  },
  {
   "cell_type": "code",
   "execution_count": 241,
   "metadata": {
    "id": "lv1JhfV8F_pN"
   },
   "outputs": [
    {
     "data": {
      "text/plain": [
       "array([0., 0., 0.])"
      ]
     },
     "execution_count": 241,
     "metadata": {},
     "output_type": "execute_result"
    }
   ],
   "source": [
    "np.zeros((3))"
   ]
  },
  {
   "cell_type": "code",
   "execution_count": 242,
   "metadata": {
    "id": "OMJtP9zkGEYE"
   },
   "outputs": [
    {
     "data": {
      "text/plain": [
       "array([[[0., 0.],\n",
       "        [0., 0.]],\n",
       "\n",
       "       [[0., 0.],\n",
       "        [0., 0.]],\n",
       "\n",
       "       [[0., 0.],\n",
       "        [0., 0.]]])"
      ]
     },
     "execution_count": 242,
     "metadata": {},
     "output_type": "execute_result"
    }
   ],
   "source": [
    "np.zeros((3,2,2))"
   ]
  },
  {
   "cell_type": "code",
   "execution_count": 243,
   "metadata": {
    "id": "sSu1DrRdGH79"
   },
   "outputs": [
    {
     "data": {
      "text/plain": [
       "(3,)"
      ]
     },
     "execution_count": 243,
     "metadata": {},
     "output_type": "execute_result"
    }
   ],
   "source": [
    "#trả về kích thước của mảng đó dưới dạng một tuple\n",
    "np.zeros(3).shape"
   ]
  },
  {
   "cell_type": "code",
   "execution_count": 244,
   "metadata": {
    "id": "-n6qLbAmGO_P"
   },
   "outputs": [
    {
     "data": {
      "text/plain": [
       "(3, 2)"
      ]
     },
     "execution_count": 244,
     "metadata": {},
     "output_type": "execute_result"
    }
   ],
   "source": [
    "np.zeros((3,2)).shape"
   ]
  },
  {
   "cell_type": "code",
   "execution_count": 245,
   "metadata": {
    "id": "WdTdU-jFGQc_"
   },
   "outputs": [
    {
     "data": {
      "text/plain": [
       "1"
      ]
     },
     "execution_count": 245,
     "metadata": {},
     "output_type": "execute_result"
    }
   ],
   "source": [
    "#trả về số chiều của mảng\n",
    "np.zeros(3).ndim"
   ]
  },
  {
   "cell_type": "code",
   "execution_count": 246,
   "metadata": {
    "id": "66MLgB8hGY96"
   },
   "outputs": [
    {
     "data": {
      "text/plain": [
       "2"
      ]
     },
     "execution_count": 246,
     "metadata": {},
     "output_type": "execute_result"
    }
   ],
   "source": [
    "np.zeros((3,2)).ndim"
   ]
  },
  {
   "cell_type": "code",
   "execution_count": 247,
   "metadata": {
    "id": "G4M4CdH5GagJ"
   },
   "outputs": [
    {
     "data": {
      "text/plain": [
       "array([[1., 1., 1.],\n",
       "       [1., 1., 1.]])"
      ]
     },
     "execution_count": 247,
     "metadata": {},
     "output_type": "execute_result"
    }
   ],
   "source": [
    "np.ones((2,3))"
   ]
  },
  {
   "cell_type": "code",
   "execution_count": 248,
   "metadata": {
    "id": "8SwsATGIGlil"
   },
   "outputs": [
    {
     "data": {
      "text/plain": [
       "array([[ 1,  2,  3,  4],\n",
       "       [10, 20, 30, 40]])"
      ]
     },
     "execution_count": 248,
     "metadata": {},
     "output_type": "execute_result"
    }
   ],
   "source": [
    "np.array([[1,2,3,4],[10,20,30,40]])"
   ]
  },
  {
   "cell_type": "code",
   "execution_count": 249,
   "metadata": {
    "id": "pB4zLMKHG03e"
   },
   "outputs": [
    {
     "data": {
      "text/plain": [
       "array([0, 1, 2, 3, 4])"
      ]
     },
     "execution_count": 249,
     "metadata": {},
     "output_type": "execute_result"
    }
   ],
   "source": [
    "np.arange(5)"
   ]
  },
  {
   "cell_type": "code",
   "execution_count": 250,
   "metadata": {
    "id": "Rg4pdNLtG8hE"
   },
   "outputs": [
    {
     "data": {
      "text/plain": [
       "array([0. , 0.5, 1. , 1.5, 2. , 2.5, 3. , 3.5, 4. , 4.5])"
      ]
     },
     "execution_count": 250,
     "metadata": {},
     "output_type": "execute_result"
    }
   ],
   "source": [
    "np.arange(0,5,0.5)"
   ]
  },
  {
   "cell_type": "code",
   "execution_count": 251,
   "metadata": {
    "id": "O_gybIjDHHld"
   },
   "outputs": [
    {
     "data": {
      "text/plain": [
       "array([0. , 0.5, 1. , 1.5, 2. , 2.5, 3. , 3.5, 4. , 4.5])"
      ]
     },
     "execution_count": 251,
     "metadata": {},
     "output_type": "execute_result"
    }
   ],
   "source": [
    "np.linspace(0,4.5,10)"
   ]
  },
  {
   "cell_type": "markdown",
   "metadata": {},
   "source": [
    "Cả \n",
    "\n",
    "np.random.rand\n",
    "\n",
    " và \n",
    "\n",
    "np.random.random\n",
    "\n",
    " đều được sử dụng để tạo các mảng chứa các giá trị ngẫu nhiên từ phân phối đều trong khoảng [0, 1). Tuy nhiên, chúng có một số khác biệt về cách sử dụng và cú pháp.\n",
    "\n",
    "### \n",
    "\n",
    "np.random.rand\n",
    "\n",
    "\n",
    "\n",
    "- **Mô tả**: \n",
    "\n",
    "np.random.rand\n",
    "\n",
    " là một hàm trong module `numpy.random` được sử dụng để tạo các mảng chứa các giá trị ngẫu nhiên từ phân phối đều trong khoảng [0, 1).\n",
    "- **Cú pháp**: \n",
    "\n",
    "np.random.rand(d0, d1, ..., dn)\n",
    "\n",
    "\n",
    "- **Tham số**: Các tham số `d0, d1, ..., dn` là các kích thước của mảng mà bạn muốn tạo.\n",
    "- **Trả về**: Một mảng NumPy có kích thước (d0, d1, ..., dn) chứa các giá trị ngẫu nhiên từ phân phối đều trong khoảng [0, 1).\n",
    "\n",
    "#### Ví dụ:\n",
    "```python\n",
    "import numpy as np\n",
    "\n",
    "# Tạo một mảng 1 chiều với 5 phần tử ngẫu nhiên\n",
    "arr1 = np.random.rand(5)\n",
    "print(\"Mảng 1 chiều với 5 phần tử ngẫu nhiên:\", arr1)\n",
    "\n",
    "# Tạo một mảng 2 chiều với kích thước 3x4\n",
    "arr2 = np.random.rand(3, 4)\n",
    "print(\"Mảng 2 chiều với kích thước 3x4:\\n\", arr2)\n",
    "```\n",
    "\n",
    "### \n",
    "\n",
    "np.random.random\n",
    "\n",
    "\n",
    "\n",
    "- **Mô tả**: \n",
    "\n",
    "np.random.random\n",
    "\n",
    " là một hàm trong module `numpy.random` được sử dụng để tạo các mảng chứa các giá trị ngẫu nhiên từ phân phối đều trong khoảng [0, 1).\n",
    "- **Cú pháp**: \n",
    "\n",
    "np.random.random(size=None)\n",
    "\n",
    "\n",
    "- **Tham số**: Tham số `size` là một tuple xác định kích thước của mảng mà bạn muốn tạo. Nếu `size` là `None`, hàm sẽ trả về một giá trị ngẫu nhiên duy nhất.\n",
    "- **Trả về**: Một mảng NumPy có kích thước `size` chứa các giá trị ngẫu nhiên từ phân phối đều trong khoảng [0, 1).\n",
    "\n",
    "#### Ví dụ:\n",
    "```python\n",
    "import numpy as np\n",
    "\n",
    "# Tạo một giá trị ngẫu nhiên duy nhất\n",
    "val = np.random.random()\n",
    "print(\"Giá trị ngẫu nhiên duy nhất:\", val)\n",
    "\n",
    "# Tạo một mảng 1 chiều với 5 phần tử ngẫu nhiên\n",
    "arr1 = np.random.random(5)\n",
    "print(\"Mảng 1 chiều với 5 phần tử ngẫu nhiên:\", arr1)\n",
    "\n",
    "# Tạo một mảng 2 chiều với kích thước 3x4\n",
    "arr2 = np.random.random((3, 4))\n",
    "print(\"Mảng 2 chiều với kích thước 3x4:\\n\", arr2)\n",
    "```\n",
    "\n",
    "### So sánh\n",
    "\n",
    "- **Cú pháp**:\n",
    "  - \n",
    "\n",
    "np.random.rand\n",
    "\n",
    " sử dụng các tham số riêng lẻ để xác định kích thước của mảng.\n",
    "  - \n",
    "\n",
    "np.random.random\n",
    "\n",
    " sử dụng một tuple để xác định kích thước của mảng.\n",
    "\n",
    "- **Tính năng**:\n",
    "  - \n",
    "\n",
    "np.random.rand\n",
    "\n",
    " chỉ có thể tạo mảng với các giá trị ngẫu nhiên từ phân phối đều trong khoảng [0, 1).\n",
    "  - \n",
    "\n",
    "np.random.random\n",
    "\n",
    " cũng tạo mảng với các giá trị ngẫu nhiên từ phân phối đều trong khoảng [0, 1), nhưng có thể trả về một giá trị ngẫu nhiên duy nhất nếu không có tham số `size`.\n",
    "\n",
    "### Kết luận\n",
    "\n",
    "Cả \n",
    "\n",
    "np.random.rand\n",
    "\n",
    " và \n",
    "\n",
    "np.random.random\n",
    "\n",
    " đều được sử dụng để tạo các mảng chứa các giá trị ngẫu nhiên từ phân phối đều trong khoảng [0, 1). Sự khác biệt chính giữa chúng là cú pháp và cách xác định kích thước của mảng. Việc lựa chọn sử dụng hàm nào phụ thuộc vào sở thích cá nhân và ngữ cảnh cụ thể của bạn."
   ]
  },
  {
   "cell_type": "code",
   "execution_count": 252,
   "metadata": {
    "id": "nSeDy2TLHO1s"
   },
   "outputs": [],
   "source": [
    "#\n",
    "n= 1000000 \n",
    "a = np.random.rand(n)\n",
    "b = np.random.rand(n)"
   ]
  },
  {
   "cell_type": "code",
   "execution_count": 253,
   "metadata": {},
   "outputs": [
    {
     "name": "stdout",
     "output_type": "stream",
     "text": [
      "Thời gian chạy: [0.2707819938659668, 0.001071929931640625]\n",
      "Speedup is: 252.61165480427047\n"
     ]
    }
   ],
   "source": [
    "import time\n",
    "import numpy as np\n",
    "\n",
    "\"\"\"\n",
    "Record multiple running times.\n",
    "\"\"\"\n",
    "class Timer:\n",
    "    def __init__(self):\n",
    "        self.times = []\n",
    "\n",
    "    def start(self):\n",
    "        self.tik = time.time()\n",
    "\n",
    "    def stop(self):\n",
    "        self.times.append(time.time() - self.tik)\n",
    "        return self.times[-1]\n",
    "\n",
    "# Khởi tạo Timer\n",
    "timer = Timer()\n",
    "\n",
    "# Khởi tạo các mảng NumPy\n",
    "n = 1000000\n",
    "a = np.random.rand(n)\n",
    "b = np.random.rand(n)\n",
    "\n",
    "# Đo thời gian cho vòng lặp thủ công\n",
    "timer.start()\n",
    "c = np.zeros(n)\n",
    "for i in range(n):\n",
    "    c[i] = a[i] + b[i]\n",
    "timer.stop()\n",
    "\n",
    "# Đo thời gian cho phép cộng vector hóa\n",
    "timer.start()\n",
    "c = a + b\n",
    "timer.stop()\n",
    "\n",
    "# In các thời gian đã ghi lại\n",
    "print(\"Thời gian chạy:\", timer.times)\n",
    "\n",
    "# Tính toán và in tốc độ tăng tốc\n",
    "print(\"Speedup is: %s\" % (timer.times[0] / timer.times[1]))"
   ]
  },
  {
   "cell_type": "code",
   "execution_count": 254,
   "metadata": {
    "id": "AX7M5iyIHvGR"
   },
   "outputs": [],
   "source": [
    "import time \n",
    "\"\"\"\n",
    "Record multiple running times.\n",
    "\"\"\"\n",
    "class Timer: \n",
    "    def __init__(self):\n",
    "        self.times = []\n",
    "\n",
    "    def start(self):\n",
    "        self.tik = time.time()\n",
    "    \n",
    "    def stop(self):\n",
    "        self.times.append(time.time() - self.tik)\n",
    "        return self.times[-1]"
   ]
  },
  {
   "cell_type": "code",
   "execution_count": 255,
   "metadata": {
    "id": "udZpE00aHvmB"
   },
   "outputs": [
    {
     "data": {
      "text/plain": [
       "0.0010590553283691406"
      ]
     },
     "execution_count": 255,
     "metadata": {},
     "output_type": "execute_result"
    }
   ],
   "source": [
    "timer = Timer()\n",
    "\n",
    "timer.start()\n",
    "c = np.zeros(n)\n",
    "for i in range(n):\n",
    "    c[i] = a[i] + b[i]\n",
    "timer.stop()\n",
    "\n",
    "timer.start()\n",
    "c = a + b\n",
    "timer.stop()"
   ]
  },
  {
   "cell_type": "code",
   "execution_count": 256,
   "metadata": {
    "id": "ke9dFUneIXzM"
   },
   "outputs": [
    {
     "data": {
      "text/plain": [
       "[0.3228938579559326, 0.0010590553283691406]"
      ]
     },
     "execution_count": 256,
     "metadata": {},
     "output_type": "execute_result"
    }
   ],
   "source": [
    "timer.times"
   ]
  },
  {
   "cell_type": "code",
   "execution_count": 257,
   "metadata": {
    "id": "N5KSgdptIfz4"
   },
   "outputs": [
    {
     "name": "stdout",
     "output_type": "stream",
     "text": [
      "speedup is: 304.8885637100405\n"
     ]
    }
   ],
   "source": [
    "print(\"speedup is: %s\" % (timer.times[0]/timer.times[1]))"
   ]
  },
  {
   "cell_type": "code",
   "execution_count": 258,
   "metadata": {
    "id": "7V6txMKhItUT"
   },
   "outputs": [
    {
     "name": "stdout",
     "output_type": "stream",
     "text": [
      "[[ 1  2  3  4]\n",
      " [10 20 30 40]]\n"
     ]
    }
   ],
   "source": [
    "a = np.array([[1,2,3,4],[10,20,30,40]])\n",
    "print(a)"
   ]
  },
  {
   "cell_type": "code",
   "execution_count": 259,
   "metadata": {
    "id": "UPCTPc4-JFm4"
   },
   "outputs": [
    {
     "name": "stdout",
     "output_type": "stream",
     "text": [
      "[[ 1  2]\n",
      " [ 3  4]\n",
      " [10 20]\n",
      " [30 40]]\n"
     ]
    }
   ],
   "source": [
    "b = a.reshape(4,2)\n",
    "print(b)"
   ]
  },
  {
   "cell_type": "code",
   "execution_count": 260,
   "metadata": {
    "id": "JhyPh7LSJOc1"
   },
   "outputs": [],
   "source": [
    "b[0,1] = -1"
   ]
  },
  {
   "cell_type": "code",
   "execution_count": 261,
   "metadata": {
    "id": "9R_KRM_XJSWa"
   },
   "outputs": [
    {
     "name": "stdout",
     "output_type": "stream",
     "text": [
      "[[ 1 -1]\n",
      " [ 3  4]\n",
      " [10 20]\n",
      " [30 40]]\n"
     ]
    }
   ],
   "source": [
    "print(b)"
   ]
  },
  {
   "cell_type": "code",
   "execution_count": 262,
   "metadata": {
    "id": "5R-2oVR3JTV9"
   },
   "outputs": [
    {
     "name": "stdout",
     "output_type": "stream",
     "text": [
      "[[ 1 -1  3  4]\n",
      " [10 20 30 40]]\n"
     ]
    }
   ],
   "source": [
    "print(a)"
   ]
  },
  {
   "cell_type": "markdown",
   "metadata": {},
   "source": [
    "Dưới đây là giải thích chi tiết về đoạn mã `c > 6` và `c[c > 6]` trong Python với NumPy:\n",
    "\n",
    "### Giải thích đoạn mã\n",
    "\n",
    "#### 1. `c > 6`\n",
    "\n",
    "- **Mô tả**: Biểu thức `c > 6` tạo ra một mảng Boolean có cùng kích thước với mảng `c`, trong đó mỗi phần tử là `True` nếu phần tử tương ứng trong `c` lớn hơn 6, và `False` nếu ngược lại.\n",
    "- **Ví dụ**:\n",
    "  ```python\n",
    "  import numpy as np\n",
    "\n",
    "  c = np.array([1, 2, 3, 7, 8, 9])\n",
    "  mask = c > 6\n",
    "  print(mask)  # Output: [False False False  True  True  True]\n",
    "  ```\n",
    "\n",
    "#### 2. `c[c > 6]`\n",
    "\n",
    "- **Mô tả**: Biểu thức `c[c > 6]` sử dụng mảng Boolean được tạo ra bởi `c > 6` để lọc các phần tử của mảng `c`. Nó chỉ trả về các phần tử của `c` mà tương ứng với giá trị `True` trong mảng Boolean.\n",
    "- **Ví dụ**:\n",
    "  ```python\n",
    "  filtered_c = c[c > 6]\n",
    "  print(filtered_c)  # Output: [7 8 9]\n",
    "  ```\n",
    "\n",
    "### Ví dụ chi tiết\n",
    "\n",
    "Dưới đây là một ví dụ chi tiết hơn để minh họa cách hoạt động của `c > 6` và `c[c > 6]`:\n",
    "\n",
    "```python\n",
    "import numpy as np\n",
    "\n",
    "# Tạo mảng NumPy\n",
    "c = np.array([1, 2, 3, 7, 8, 9])\n",
    "\n",
    "# Tạo mảng Boolean bằng cách so sánh các phần tử của c với 6\n",
    "mask = c > 6\n",
    "print(\"Mảng Boolean (c > 6):\", mask)\n",
    "# Output: [False False False  True  True  True]\n",
    "\n",
    "# Sử dụng mảng Boolean để lọc các phần tử của c\n",
    "filtered_c = c[c > 6]\n",
    "print(\"Các phần tử của c lớn hơn 6:\", filtered_c)\n",
    "# Output: [7 8 9]\n",
    "```\n",
    "\n",
    "### Kết luận\n",
    "\n",
    "- **`c > 6`**: Tạo ra một mảng Boolean có cùng kích thước với mảng `c`, trong đó mỗi phần tử là `True` nếu phần tử tương ứng trong `c` lớn hơn 6, và `False` nếu ngược lại.\n",
    "- **`c[c > 6]`**: Sử dụng mảng Boolean được tạo ra bởi `c > 6` để lọc các phần tử của mảng `c`, chỉ trả về các phần tử của `c` mà tương ứng với giá trị `True` trong mảng Boolean.\n",
    "\n",
    "Việc sử dụng các biểu thức này giúp bạn dễ dàng lọc và thao tác với các phần tử của mảng NumPy dựa trên các điều kiện cụ thể."
   ]
  },
  {
   "cell_type": "code",
   "execution_count": 263,
   "metadata": {
    "id": "IFy8JQqgJUX5"
   },
   "outputs": [],
   "source": [
    "c = np.array([3,4,5,6,7,8,9])"
   ]
  },
  {
   "cell_type": "code",
   "execution_count": 264,
   "metadata": {
    "id": "VpjFjX6yJe_f"
   },
   "outputs": [
    {
     "data": {
      "text/plain": [
       "array([False, False, False, False,  True,  True,  True])"
      ]
     },
     "execution_count": 264,
     "metadata": {},
     "output_type": "execute_result"
    }
   ],
   "source": [
    "c > 6"
   ]
  },
  {
   "cell_type": "code",
   "execution_count": 265,
   "metadata": {
    "id": "pCjmgPtmJh58"
   },
   "outputs": [
    {
     "data": {
      "text/plain": [
       "array([7, 8, 9])"
      ]
     },
     "execution_count": 265,
     "metadata": {},
     "output_type": "execute_result"
    }
   ],
   "source": [
    "c[c>6]"
   ]
  }
 ],
 "metadata": {
  "colab": {
   "collapsed_sections": [],
   "name": "01_numpy_basics",
   "provenance": []
  },
  "kernelspec": {
   "display_name": "base",
   "language": "python",
   "name": "python3"
  },
  "language_info": {
   "codemirror_mode": {
    "name": "ipython",
    "version": 3
   },
   "file_extension": ".py",
   "mimetype": "text/x-python",
   "name": "python",
   "nbconvert_exporter": "python",
   "pygments_lexer": "ipython3",
   "version": "3.12.3"
  }
 },
 "nbformat": 4,
 "nbformat_minor": 0
}
