{
 "cells": [
  {
   "cell_type": "markdown",
   "metadata": {},
   "source": [
    "NumPy is a Python library used for working with arrays.\n",
    "\n",
    "It also has functions for working in domain of linear algebra, fourier transform, and matrices.\n",
    "\n",
    "NumPy was created in 2005 by Travis Oliphant. It is an open source project and you can use it freely.\n",
    "\n",
    "NumPy stands for Numerical Python."
   ]
  },
  {
   "cell_type": "code",
   "execution_count": null,
   "metadata": {},
   "outputs": [],
   "source": [
    "# cài đặt numpy nếu chưa cài\n",
    "#!pip install numpy"
   ]
  },
  {
   "cell_type": "code",
   "execution_count": 2,
   "metadata": {},
   "outputs": [
    {
     "name": "stdout",
     "output_type": "stream",
     "text": [
      "1.26.4\n"
     ]
    }
   ],
   "source": [
    "import numpy as np #nhập thư viện numpy\n",
    "#(là thư viện cốt lõi cho tính toán khoa học trong Python. \n",
    "#Nó cung cấp một đối tượng mảng đa chiều hiệu suất cao và các công cụ để làm việc với các mảng này.)\n",
    "print(np.__version__)"
   ]
  },
  {
   "cell_type": "code",
   "execution_count": 3,
   "metadata": {},
   "outputs": [
    {
     "name": "stdout",
     "output_type": "stream",
     "text": [
      "[ 1  3  4  5  7  8  9 11]\n",
      "[[ 1  3  4  5]\n",
      " [ 7  8  9 11]]\n",
      "[[3 4]\n",
      " [8 9]]\n"
     ]
    }
   ],
   "source": [
    "a = np.array([1,3,4,5,7,8,9,11])\n",
    "print(a)\n",
    "b = a.reshape(2,-1)\n",
    "print(b)\n",
    "c = b[:2,1:3]\n",
    "print(c)"
   ]
  },
  {
   "cell_type": "code",
   "execution_count": 4,
   "metadata": {},
   "outputs": [
    {
     "name": "stdout",
     "output_type": "stream",
     "text": [
      "(2, 3)\n",
      "(2, 2, 3)\n"
     ]
    }
   ],
   "source": [
    "sv11 = np.array([1,20,60])\n",
    "sv12 = np.array([0,20,51])\n",
    "g1 = np.array([sv11,sv12])\n",
    "print(g1.shape)\n",
    "\n",
    "sv21 = np.array([1,22,62])\n",
    "sv22 = np.array([1,21,41])\n",
    "g2 = np.array([sv21,sv22])\n",
    "#print(g2)\n",
    "class1 = np.array([g1,g2])\n",
    "print(class1.shape)\n"
   ]
  },
  {
   "cell_type": "markdown",
   "metadata": {},
   "source": [
    "Mục lục:\n",
    "1. Tạo mảng (Creating Array)\n",
    "2. Kích thước khuôn và ép khuôn (Shape and reshape)\n",
    "3. Chỉ số phần tử trong mảng (Array Indexing)\n",
    "4. Tách mảng con (Array Slicing) \n",
    "5. Sinh giá trị ngẫu nhiên (Randomly generation of values)\n",
    "6. Tính toán trên ma trận (Operations on matrices)"
   ]
  },
  {
   "cell_type": "code",
   "execution_count": 5,
   "metadata": {},
   "outputs": [
    {
     "name": "stdout",
     "output_type": "stream",
     "text": [
      "one dim:\n",
      " [1 3 5 7]\n",
      "[1, 3, 5, 7]\n",
      "two dim:\n",
      " [[1 3 5]\n",
      " [2 4 6]]\n",
      "three dim:\n",
      " [[[ 1  3  5]\n",
      "  [ 2  4  6]]\n",
      "\n",
      " [[10 30 50]\n",
      "  [20 40 60]]]\n"
     ]
    }
   ],
   "source": [
    "import numpy as np\n",
    "# 1. creating array\n",
    "# one dimension\n",
    "arr = np.array([1,3,5,7])\n",
    "print('one dim:\\n',arr)\n",
    "print(list(arr))\n",
    "\n",
    "# two dimensions \n",
    "arr = np.array([[1,3,5],\n",
    "                [2,4,6]])\n",
    "print('two dim:\\n',arr)\n",
    "# three dimensions: it means array of 2-dim arrays \n",
    "arr = np.array( [ [[1,3,5],[2,4,6]],\n",
    "                     [[10,30,50],[20,40,60]] \n",
    "                    ]   )\n",
    "print('three dim:\\n',arr)"
   ]
  },
  {
   "cell_type": "code",
   "execution_count": 6,
   "metadata": {},
   "outputs": [
    {
     "name": "stdout",
     "output_type": "stream",
     "text": [
      "[1, 2, 3]\n",
      "[1 2 3]\n"
     ]
    }
   ],
   "source": [
    "# convert from list to numpy array \n",
    "a = [1,2,3]\n",
    "print(a) \n",
    "arr = np.array(a)\n",
    "print(arr)"
   ]
  },
  {
   "cell_type": "code",
   "execution_count": 7,
   "metadata": {},
   "outputs": [
    {
     "name": "stdout",
     "output_type": "stream",
     "text": [
      "[0 1 2 3 4 5 6 7 8 9]\n",
      "[2 3 4 5 6 7 8 9]\n",
      "[1 3 5 7 9]\n"
     ]
    }
   ],
   "source": [
    "a = np.arange(10)\n",
    "print(a)\n",
    "a = np.arange(2,10)\n",
    "print(a)\n",
    "a = np.arange(1,10,2)\n",
    "print(a)"
   ]
  },
  {
   "cell_type": "code",
   "execution_count": 8,
   "metadata": {},
   "outputs": [
    {
     "name": "stdout",
     "output_type": "stream",
     "text": [
      "[[0.98173777 0.27273211 0.94911123]\n",
      " [0.73113149 0.14031811 0.01186404]]\n",
      "[[5 2 6 0 8]\n",
      " [2 7 6 5 6]]\n",
      "[9.21774711 9.33325298 4.93858106 1.2201462  3.21400998 3.99908021\n",
      " 7.98594911 8.30970516 7.11072207 3.4946508  4.77120764 1.31157525\n",
      " 8.38279573 8.20015812 2.0582464 ]\n"
     ]
    }
   ],
   "source": [
    "a = np.random.rand(2,3)\n",
    "print(a)\n",
    "b = np.random.randint(10,size=(2,5))\n",
    "print(b)\n",
    "c = np.random.rand(15)*10\n",
    "print(c)"
   ]
  },
  {
   "cell_type": "code",
   "execution_count": 9,
   "metadata": {},
   "outputs": [
    {
     "name": "stdout",
     "output_type": "stream",
     "text": [
      "[[15.87395365 18.81733055 17.17282222 18.57285378]\n",
      " [17.30747463 16.49799036 17.72572024 18.13021353]\n",
      " [15.70025902 18.34051642 16.8901894  16.78678571]]\n"
     ]
    }
   ],
   "source": [
    "a = np.random.rand(3,4)*4+15\n",
    "print(a)"
   ]
  },
  {
   "cell_type": "code",
   "execution_count": 10,
   "metadata": {},
   "outputs": [
    {
     "name": "stdout",
     "output_type": "stream",
     "text": [
      "[[11.63663658 13.43942857 11.95777032 14.19000699 14.91120858]\n",
      " [14.47881747 11.47756654 11.28698428 11.42110519 10.69318291]\n",
      " [12.42992845 10.23322047 12.08187273 13.74250308 11.31547972]]\n"
     ]
    }
   ],
   "source": [
    "a = np.random.rand(3,5)*5 + 10\n",
    "print(a)"
   ]
  },
  {
   "cell_type": "code",
   "execution_count": 11,
   "metadata": {},
   "outputs": [
    {
     "name": "stdout",
     "output_type": "stream",
     "text": [
      "a=\n",
      " [[11.63663658 13.43942857 11.95777032 14.19000699 14.91120858]\n",
      " [14.47881747 11.47756654 11.28698428 11.42110519 10.69318291]\n",
      " [12.42992845 10.23322047 12.08187273 13.74250308 11.31547972]]\n",
      "b=\n",
      " [[11.28698428 11.42110519 10.69318291]\n",
      " [12.08187273 13.74250308 11.31547972]]\n"
     ]
    }
   ],
   "source": [
    "#a = np.random.randint(10,size=(3, 7))\n",
    "print('a=\\n',a)\n",
    "b = a[ -2: , -3: ]\n",
    "print('b=\\n',b)\n"
   ]
  },
  {
   "cell_type": "code",
   "execution_count": 12,
   "metadata": {},
   "outputs": [
    {
     "ename": "SyntaxError",
     "evalue": "invalid syntax (3381326951.py, line 9)",
     "output_type": "error",
     "traceback": [
      "\u001b[0;36m  Cell \u001b[0;32mIn[12], line 9\u001b[0;36m\u001b[0m\n\u001b[0;31m    y = ?\u001b[0m\n\u001b[0m        ^\u001b[0m\n\u001b[0;31mSyntaxError\u001b[0m\u001b[0;31m:\u001b[0m invalid syntax\n"
     ]
    }
   ],
   "source": [
    "#a = np.random.rand(2,3)*10+10\n",
    "height = np.random.rand(10)*0.3+1.5\n",
    "print(height)\n",
    "weight = height*30\n",
    "eps = np.random.rand(10)*3\n",
    "weight = weight+eps\n",
    "print(weight)\n",
    "x = 1.61\n",
    "y = 1"
   ]
  },
  {
   "cell_type": "code",
   "execution_count": 34,
   "metadata": {},
   "outputs": [
    {
     "name": "stdout",
     "output_type": "stream",
     "text": [
      "[[4.5 4.5 4.5]\n",
      " [4.5 4.5 4.5]]\n",
      "[2 2 2 2 2]\n",
      "[[0.01888834 0.23105233 0.73590319]\n",
      " [0.42249653 0.63996952 0.17457706]]\n",
      "[0.12513783 0.33886594 0.15180212]\n",
      "[[[0.83701196 0.64058348 0.55261312 0.73110596]\n",
      "  [0.52162478 0.13127607 0.61851923 0.4318031 ]]\n",
      "\n",
      " [[0.75709295 0.26777998 0.98420076 0.91613044]\n",
      "  [0.65189709 0.33628074 0.8807207  0.43254357]]\n",
      "\n",
      " [[0.92162656 0.79654823 0.38310808 0.37098824]\n",
      "  [0.8303153  0.01445566 0.53472576 0.37626156]]]\n",
      "[0 9 6 3 8]\n",
      "[[1 8 9 2 5]\n",
      " [7 3 4 5 8]]\n"
     ]
    }
   ],
   "source": [
    "# - array with the same value\n",
    "a = np.full((2,3),4.5)\n",
    "print(a)\n",
    "a = np.full((5),2)\n",
    "print(a)\n",
    "# create array by multiple \n",
    "a = np.array([2]*5)\n",
    "print(a)\n",
    "\n",
    "# random values\n",
    "\n",
    "#Create an array of the given shape and populate it with random samples from a uniform distribution over [0, 1).\n",
    "a = np.random.rand(2,3) # array (2,3) with values in [0,1]\n",
    "print(a) \n",
    "a = np.random.rand(3) \n",
    "print(a) \n",
    "a = np.random.rand(3,2,4) \n",
    "print(a) \n",
    "# randint for values of integers \n",
    "a = np.random.randint(10,size=5) # values in [0,10]\n",
    "print(a)\n",
    "a = np.random.randint(10,size=(2,5))\n",
    "print(a)"
   ]
  },
  {
   "cell_type": "code",
   "execution_count": 67,
   "metadata": {},
   "outputs": [
    {
     "name": "stdout",
     "output_type": "stream",
     "text": [
      "[[8 3 6 7 8 8]\n",
      " [1 3 0 2 6 8]\n",
      " [0 2 7 3 0 7]\n",
      " [0 8 6 6 7 1]]\n",
      "X= [[8 3 6 7 8]\n",
      " [1 3 0 2 6]\n",
      " [0 2 7 3 0]\n",
      " [0 8 6 6 7]]\n",
      "y= [8 8 7 1]\n"
     ]
    }
   ],
   "source": [
    "#a = np.random.randint(10,size=(4,6))\n",
    "print(a)\n",
    "X=a[:,:-1]\n",
    "y=a[:,-1]\n",
    "print('X=',X)\n",
    "print('y=',y)\n",
    "#print(b)"
   ]
  },
  {
   "cell_type": "code",
   "execution_count": 8,
   "metadata": {},
   "outputs": [
    {
     "name": "stdout",
     "output_type": "stream",
     "text": [
      "[3 0 6 9 1 4 2 4 1 2 1 8 3 6 2 4 9 5 2 8 5 0 2 2]\n",
      "(4, 6)\n",
      "[[3 0 6 9 1 4]\n",
      " [2 4 1 2 1 8]\n",
      " [3 6 2 4 9 5]\n",
      " [2 8 5 0 2 2]]\n",
      "(2, 3, 4)\n",
      "[[[3 0 6 9]\n",
      "  [1 4 2 4]\n",
      "  [1 2 1 8]]\n",
      "\n",
      " [[3 6 2 4]\n",
      "  [9 5 2 8]\n",
      "  [5 0 2 2]]]\n"
     ]
    }
   ],
   "source": [
    "a=np.random.randint(10,size=24)\n",
    "print(a)\n",
    "b = a.reshape(4,-1)\n",
    "print(b.shape)\n",
    "print(b)\n",
    "c = b.reshape(2,3,-1)\n",
    "print(c.shape)\n",
    "print(c)\n"
   ]
  },
  {
   "cell_type": "code",
   "execution_count": 24,
   "metadata": {},
   "outputs": [
    {
     "name": "stdout",
     "output_type": "stream",
     "text": [
      "[[2 7 6 9]\n",
      " [4 1 5 7]\n",
      " [0 6 0 6]]\n",
      "[[5 7]\n",
      " [0 6]]\n"
     ]
    }
   ],
   "source": [
    "#a = np.random.randint(10,size=(12))\n",
    "a = a.reshape(3,4)\n",
    "print(a)\n",
    "b = a[-2:,-2:]\n",
    "print(b)\n",
    "#print(a.shape)\n"
   ]
  },
  {
   "cell_type": "code",
   "execution_count": 28,
   "metadata": {},
   "outputs": [
    {
     "name": "stdout",
     "output_type": "stream",
     "text": [
      "[13 12 11 18 12  5  2  3 12  0  8  8  8 10 19  8 14 10 18 10]\n",
      "[[13 12 11 18 12]\n",
      " [ 5  2  3 12  0]\n",
      " [ 8  8  8 10 19]\n",
      " [ 8 14 10 18 10]]\n"
     ]
    }
   ],
   "source": [
    "a = np.random.randint(20,size=20)\n",
    "print(a)\n",
    "a = a.reshape(4,-1)\n",
    "print(a)\n",
    "#b = a[1:3,1:4]\n",
    "#print('b=',b)\n",
    "\n"
   ]
  },
  {
   "cell_type": "code",
   "execution_count": 37,
   "metadata": {},
   "outputs": [
    {
     "name": "stdout",
     "output_type": "stream",
     "text": [
      "[[ 1  6  6  4]\n",
      " [ 2  4  3  3]\n",
      " [ 3  6  4  6]\n",
      " [ 4  3  6  9]\n",
      " [ 5  7  4  7]\n",
      " [ 6  9  7  8]\n",
      " [ 7  8  5  4]\n",
      " [ 8  5  4  4]\n",
      " [ 9  5  5  8]\n",
      " [10  8  4  3]\n",
      " [11  7  4  7]\n",
      " [12  4  3  7]\n",
      " [13  8  6  7]\n",
      " [14  3  9  6]\n",
      " [15  5  5  8]\n",
      " [16  7  4  7]\n",
      " [17  8  5  4]\n",
      " [18  3  9  6]\n",
      " [19  4  5  9]\n",
      " [20  5  4  6]\n",
      " [21  4  3  6]\n",
      " [22  8  6  7]\n",
      " [23  5  8  6]\n",
      " [24  5  7  7]\n",
      " [25  3  6  4]\n",
      " [26  9  6  8]\n",
      " [27  4  4  3]\n",
      " [28  6  9  6]\n",
      " [29  6  8  4]\n",
      " [30  8  7  9]]\n"
     ]
    }
   ],
   "source": [
    "a = np.arange(1,31)\n",
    "a = a.reshape(30,-1)\n",
    "#print(a)\n",
    "#b = np.random.randint(3,10,size=(30,3))\n",
    "#print(b)\n",
    "c = np.concatenate((a,b),axis=-1)\n",
    "\n",
    "print(c)"
   ]
  },
  {
   "cell_type": "code",
   "execution_count": 122,
   "metadata": {},
   "outputs": [
    {
     "name": "stdout",
     "output_type": "stream",
     "text": [
      "10\n",
      "[13, 20, 13, 13, 11]\n",
      "[13 20 13 13 11]\n"
     ]
    }
   ],
   "source": [
    "import random \n",
    "n = random.randint(10,20)\n",
    "print(n)\n",
    "a = [random.randint(10,20) for i in range(5) ]\n",
    "print(a)\n",
    "b = np.array(a)\n",
    "print(b) "
   ]
  },
  {
   "cell_type": "code",
   "execution_count": 121,
   "metadata": {},
   "outputs": [
    {
     "name": "stdout",
     "output_type": "stream",
     "text": [
      "(3, 4)\n",
      "3 4\n",
      "[[1 3 5 7 2 4]\n",
      " [6 8 1 1 1 1]]\n",
      "[[1 3 5 7 2 4]\n",
      " [6 8 1 1 1 1]]\n",
      "[[1 3 5 7 2 4]\n",
      " [6 8 1 1 1 1]]\n",
      "[1 3 5 7 2 4 6 8 1 1 1 1]\n",
      "[[1 3 5 7 2 4]\n",
      " [6 8 1 1 1 1]]\n",
      "[[1 3]\n",
      " [5 7]\n",
      " [2 4]\n",
      " [6 8]\n",
      " [1 1]\n",
      " [1 1]]\n"
     ]
    }
   ],
   "source": [
    "# 2. shape and reshape \n",
    "a = np.array([[1,3,5,7],\n",
    "                [2,4,6,8],[1,1,1,1]])\n",
    "print(a.shape)\n",
    "print(a.shape[0],a.shape[1])\n",
    "# reshape to (m,n)\n",
    "print(np.reshape(a,(2,6)))\n",
    "print(a.reshape(2,6))\n",
    "print(a.reshape(2,-1))\n",
    "\n",
    "# reshape to one line\n",
    "print(a.ravel())\n",
    "print(a.reshape(-1,6))\n",
    "print(a.reshape(6,-1))"
   ]
  },
  {
   "cell_type": "code",
   "execution_count": 50,
   "metadata": {},
   "outputs": [
    {
     "name": "stdout",
     "output_type": "stream",
     "text": [
      "1 3 5 7 \n",
      "shape = (2, 3)\n",
      "[[1 3 5]\n",
      " [2 4 6]]\n",
      "1\n",
      "3\n",
      "5\n",
      "2\n",
      "4\n",
      "6\n"
     ]
    }
   ],
   "source": [
    "# 2,3. array indexing and slicing \n",
    "# how to get/extract values by indexs in arrays\n",
    "a = np.array([1,3,5,7])\n",
    "for i in range(len(a)):\n",
    "    print(a[i], end=' ')\n",
    "b = np.array([[1,3,5],[2,4,6]])\n",
    "print('\\n\\rshape =',b.shape)\n",
    "print(b)\n",
    "for i in range(b.shape[0]):\n",
    "    for j in range(b.shape[1]):\n",
    "        print(b[i][j])"
   ]
  },
  {
   "cell_type": "code",
   "execution_count": 55,
   "metadata": {},
   "outputs": [
    {
     "name": "stdout",
     "output_type": "stream",
     "text": [
      "[1 2 3]\n",
      "[2 3]\n",
      "9\n",
      "[4 5 6 7 8]\n",
      "[1 2 3 4 5 6 7 8]\n"
     ]
    }
   ],
   "source": [
    "# how to get sub-array by indexs\n",
    "a = np.array([1,2,3,4,5,6,7,8,9])\n",
    "print(a[:3])\n",
    "print(a[1:3])\n",
    "print(a[-1])\n",
    "print(a[3:-1])\n",
    "print(a[:-1])\n"
   ]
  },
  {
   "cell_type": "code",
   "execution_count": 61,
   "metadata": {},
   "outputs": [
    {
     "name": "stdout",
     "output_type": "stream",
     "text": [
      "[[1 3 5]\n",
      " [2 4 6]]\n",
      "[[3 5]\n",
      " [4 6]]\n",
      "[[1 3]\n",
      " [2 4]]\n",
      "[[1 3 5]\n",
      " [2 4 6]]\n"
     ]
    }
   ],
   "source": [
    "# how to get sub-array of 2-dim arrays by indexs\n",
    "a = np.array([[1,3,5],[2,4,6]])\n",
    "print(a)\n",
    "print(a[0:2,1:3])\n",
    "print(a[:,:-1])\n",
    "print(a[:,:])"
   ]
  },
  {
   "cell_type": "code",
   "execution_count": 71,
   "metadata": {},
   "outputs": [
    {
     "name": "stdout",
     "output_type": "stream",
     "text": [
      "[0 1 2 3 4 5 6 7 8 9]\n",
      "[1 3 5 7 9]\n"
     ]
    }
   ],
   "source": [
    "#4. Array extraction by Condition\n",
    "a = np.array([i for i in range(10)])\n",
    "print(a)\n",
    "# get odd values\n",
    "b = a[a%2==1]\n",
    "print(b)\n"
   ]
  },
  {
   "cell_type": "code",
   "execution_count": 75,
   "metadata": {},
   "outputs": [
    {
     "name": "stdout",
     "output_type": "stream",
     "text": [
      "<U6\n",
      "int64\n"
     ]
    }
   ],
   "source": [
    "# 5. Data type\n",
    "arr = np.array(['apple', 'banana', 'cherry'])\n",
    "print(arr.dtype)\n",
    "arr = np.array([1, 2, 3, 4])\n",
    "print(arr.dtype)"
   ]
  },
  {
   "cell_type": "code",
   "execution_count": 87,
   "metadata": {},
   "outputs": [
    {
     "name": "stdout",
     "output_type": "stream",
     "text": [
      "[[1 2 3]\n",
      " [2 3 4]]\n",
      "[[1 1 1]\n",
      " [2 2 2]]\n"
     ]
    }
   ],
   "source": [
    "# 6. Operation on darray\n",
    "a = np.array([[1,2,3],[2,3,4]])\n",
    "b = np.array([[1,1,1],[2,2,2]])\n",
    "print(a)\n",
    "print(b)"
   ]
  },
  {
   "cell_type": "code",
   "execution_count": 95,
   "metadata": {},
   "outputs": [
    {
     "name": "stdout",
     "output_type": "stream",
     "text": [
      "[[2 3 4]\n",
      " [4 5 6]]\n",
      "add [[2 3 4]\n",
      " [4 5 6]]\n",
      "[[0 1 2]\n",
      " [0 1 2]]\n",
      "sub [[0 1 2]\n",
      " [0 1 2]]\n",
      "[[1 2 3]\n",
      " [4 6 8]]\n",
      "multiply [[1 2 3]\n",
      " [4 6 8]]\n",
      "[[1.  2.  3. ]\n",
      " [1.  1.5 2. ]]\n",
      "divide [[1.  2.  3. ]\n",
      " [1.  1.5 2. ]]\n"
     ]
    }
   ],
   "source": [
    "print(a+b)\n",
    "print('add',np.add(a,b))\n",
    "print(a-b)\n",
    "print('sub',np.subtract(a,b))\n",
    "print(a*b)\n",
    "print('multiply',np.multiply(a,b))\n",
    "print(a/b)\n",
    "print('divide',np.divide(a,b))"
   ]
  },
  {
   "cell_type": "code",
   "execution_count": 98,
   "metadata": {},
   "outputs": [
    {
     "name": "stdout",
     "output_type": "stream",
     "text": [
      "[[1 2 3]\n",
      " [2 3 4]]\n",
      "[[1 2]\n",
      " [1 2]\n",
      " [1 2]]\n",
      "[[ 6 12]\n",
      " [ 9 18]]\n",
      "[[1.         1.41421356 1.73205081]\n",
      " [1.41421356 1.73205081 2.        ]]\n"
     ]
    }
   ],
   "source": [
    "print(a)\n",
    "print(b.T) # Transpose of a matrix (ma trận chuyển vị))\n",
    "print(np.dot(a,b.T))\n",
    "print(np.sqrt(a))"
   ]
  },
  {
   "cell_type": "code",
   "execution_count": 108,
   "metadata": {},
   "outputs": [
    {
     "name": "stdout",
     "output_type": "stream",
     "text": [
      "[[1 2 3]\n",
      " [2 3 4]]\n",
      "[[1 1 1]\n",
      " [2 2 2]]\n",
      "[3 5 7]\n",
      "[6 9]\n",
      "concat:\n",
      "[[1 2 3]\n",
      " [2 3 4]\n",
      " [1 1 1]\n",
      " [2 2 2]]\n",
      "[[1 2 3 1 1 1]\n",
      " [2 3 4 2 2 2]]\n"
     ]
    }
   ],
   "source": [
    "# operation by axis of array\n",
    "print(a)\n",
    "print(b)\n",
    "# operation on by axis\n",
    "print(a.sum(axis=0))\n",
    "print(a.sum(axis=1))\n",
    "# combine a and b: numpy.concatenate \n",
    "print('concat:')\n",
    "print(np.concatenate((a,b),axis=0))\n",
    "print(np.concatenate((a,b),axis=1))"
   ]
  },
  {
   "cell_type": "code",
   "execution_count": 20,
   "metadata": {},
   "outputs": [
    {
     "name": "stdout",
     "output_type": "stream",
     "text": [
      "[18.50006698 10.8865592  17.79527301 12.84290472 13.96935492]\n",
      "[16 13 12 19 18]\n",
      "[[16.         13.         12.         19.         18.        ]\n",
      " [18.50006698 10.8865592  17.79527301 12.84290472 13.96935492]]\n",
      "[[12.         19.        ]\n",
      " [17.79527301 12.84290472]]\n"
     ]
    }
   ],
   "source": [
    "# Create a 2x7 matrix\n",
    "# line 1 is random integers from 10->20\n",
    "# line 2 is real numbers from 10 ->20\n",
    "#2) get/extract sub-matrix from column 2 to column 4 \n",
    "#and print to screen\n",
    "\n",
    "\n",
    "\n",
    "\n",
    "\n",
    "\n",
    "\n",
    "\n",
    "\n",
    "\n",
    "\n",
    "N = 5\n",
    "a = np.random.rand(N)*10+10\n",
    "print(a)\n",
    "b = np.random.randint(10,20, size=(N))\n",
    "print(b)\n",
    "c = np.array([b,a])\n",
    "print(c)\n",
    "d = c[:,2:4]\n",
    "print(d)"
   ]
  },
  {
   "cell_type": "code",
   "execution_count": 69,
   "metadata": {},
   "outputs": [
    {
     "name": "stdout",
     "output_type": "stream",
     "text": [
      "[2 4 3]\n"
     ]
    }
   ],
   "source": [
    "a = np.array([1,2,3])\n",
    "b = np.array([2,2,1])\n",
    "c = a*b\n",
    "print(c)"
   ]
  }
 ],
 "metadata": {
  "kernelspec": {
   "display_name": "base",
   "language": "python",
   "name": "python3"
  },
  "language_info": {
   "codemirror_mode": {
    "name": "ipython",
    "version": 3
   },
   "file_extension": ".py",
   "mimetype": "text/x-python",
   "name": "python",
   "nbconvert_exporter": "python",
   "pygments_lexer": "ipython3",
   "version": "3.12.3"
  }
 },
 "nbformat": 4,
 "nbformat_minor": 4
}
