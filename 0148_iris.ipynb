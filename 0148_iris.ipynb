{
 "cells": [
  {
   "cell_type": "code",
   "execution_count": 52,
   "metadata": {
    "colab": {
     "base_uri": "https://localhost:8080/"
    },
    "id": "dubVva7JJ23q",
    "outputId": "92f71549-0550-4691-d181-8113dcf360fd"
   },
   "outputs": [
    {
     "name": "stdout",
     "output_type": "stream",
     "text": [
      "(149, 5)\n",
      "[[4.9 3.0 1.4 0.2 'Iris-setosa']\n",
      " [4.7 3.2 1.3 0.2 'Iris-setosa']\n",
      " [4.6 3.1 1.5 0.2 'Iris-setosa']\n",
      " [5.0 3.6 1.4 0.2 'Iris-setosa']\n",
      " [5.4 3.9 1.7 0.4 'Iris-setosa']]\n"
     ]
    }
   ],
   "source": [
    "import numpy as np\n",
    "import pandas as pd\n",
    "\n",
    "\n",
    "filename='../../input/iris/iris.data'\n",
    "\n",
    "\n",
    "df=pd.read_csv(filename)\n",
    "data=df.values #kieu np\n",
    "\n",
    "print(data.shape)\n",
    "print(data[:5])\n",
    "\n"
   ]
  },
  {
   "cell_type": "code",
   "execution_count": 53,
   "metadata": {
    "id": "j30g3l6oKWdO"
   },
   "outputs": [],
   "source": [
    "from sklearn.model_selection import train_test_split\n",
    "from sklearn.preprocessing import StandardScaler\n",
    "from sklearn.neighbors import KNeighborsClassifier\n",
    "from sklearn.metrics import accuracy_score\n",
    "\n",
    "#tach thuoc tinh & nhan\n",
    "X= data[:, :-1].astype(float)  #dug so thuc\n",
    "y= data[:, -1]  #nhan\n",
    "\n",
    "#tap huan luyen & tap kt\n",
    "X_train,X_test,y_train, y_test=train_test_split(X,y,test_size=0.3,random_state=42)\n"
   ]
  },
  {
   "cell_type": "code",
   "execution_count": 54,
   "metadata": {
    "id": "AVuBIw3ILM_H"
   },
   "outputs": [],
   "source": [
    "#Tieu chuan hoa data\n",
    "\n",
    "scaler=StandardScaler()\n",
    "X_train_scaled=scaler.fit_transform(X_train)\n",
    "X_test_scaled=scaler.transform(X_test)\n"
   ]
  },
  {
   "cell_type": "code",
   "execution_count": 55,
   "metadata": {
    "colab": {
     "base_uri": "https://localhost:8080/"
    },
    "id": "iOW0DbqMLQy_",
    "outputId": "7718ca9f-bacb-4327-b396-8a4c599416f9"
   },
   "outputs": [
    {
     "name": "stdout",
     "output_type": "stream",
     "text": [
      "Accuracy:0.91\n",
      "Một số dự đoán:\n",
      "              True        Predicted\n",
      "0  Iris-versicolor  Iris-versicolor\n",
      "1      Iris-setosa      Iris-setosa\n",
      "2   Iris-virginica   Iris-virginica\n",
      "3  Iris-versicolor  Iris-versicolor\n",
      "4  Iris-versicolor   Iris-virginica\n"
     ]
    }
   ],
   "source": [
    "#K = 3\n",
    "knn=KNeighborsClassifier(n_neighbors=3)\n",
    "\n",
    "#Huan luyen knn\n",
    "knn.fit(X_train_scaled, y_train)\n",
    "\n",
    "#Du doan nhan\n",
    "y_pred=knn.predict(X_test_scaled)\n",
    "\n",
    "#dua ra Acc, danh gia\n",
    "accuracy=accuracy_score(y_test, y_pred)\n",
    "print(f'Accuracy:{accuracy:.2f}')\n",
    "\n",
    "#ket qua\n",
    "results = pd.DataFrame({'True':y_test,'Predicted':y_pred})\n",
    "print(\"Một số dự đoán:\")\n",
    "print(results.head())\n"
   ]
  }
 ],
 "metadata": {
  "colab": {
   "provenance": []
  },
  "kernelspec": {
   "display_name": "Python 3 (ipykernel)",
   "language": "python",
   "name": "python3"
  },
  "language_info": {
   "codemirror_mode": {
    "name": "ipython",
    "version": 3
   },
   "file_extension": ".py",
   "mimetype": "text/x-python",
   "name": "python",
   "nbconvert_exporter": "python",
   "pygments_lexer": "ipython3",
   "version": "3.12.3"
  }
 },
 "nbformat": 4,
 "nbformat_minor": 4
}
